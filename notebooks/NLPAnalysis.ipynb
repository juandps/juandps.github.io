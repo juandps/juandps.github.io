{
 "cells": [
  {
   "cell_type": "markdown",
   "metadata": {},
   "source": [
    "🚀 NLP Analysis of a News Report on a Medevac Crash\n",
    "\n",
    "This Jupyter Notebook showcases Natural Language Processing (NLP) techniques applied to a real-world news report about a medevac plane crash. The analysis includes:\n",
    "\t•\tTokenization & Normalization: Breaking the text into sentences and words, converting to lowercase, and applying stemming.\n",
    "\t•\tPart-of-Speech (POS) Tagging: Identifying the grammatical structure of words to understand the text’s composition.\n",
    "\t•\tN-Gram Analysis: Extracting common bi-grams and tri-grams to uncover key topics and trends.\n",
    "\t•\tInsights & Interpretation: Examining word patterns, frequent phrases, and linguistic structures to determine the main focus of the news article.\n",
    "\n",
    "This notebook demonstrates my ability to preprocess, analyze, and extract meaningful insights from text data—a crucial skill in NLP applications such as sentiment analysis, topic modeling, and text classification. 🚀"
   ]
  },
  {
   "cell_type": "markdown",
   "metadata": {},
   "source": [
    "# Part 1"
   ]
  },
  {
   "cell_type": "code",
   "execution_count": null,
   "metadata": {},
   "outputs": [
    {
     "name": "stdout",
     "output_type": "stream",
     "text": [
      "\n",
      " Sentence Tokenization:\n",
      " ['A medevac plane crashed soon after takeoff in Philadelphia on Friday with a child \\nand five others on board, the air ambulance company that operated it said, adding that it \\nhad not confirmed any survivors.', \"Jet Rescue Air Ambulance, based in Mexico and licensed to \\noperate in the U.S., said its aircraft crashed with four crew members, one pediatric medical \\npatient and the patient's mother on board.\", '\"At this time we cannot confirm any survivors,\" \\nthe company said in a statement.']\n",
      "\n",
      " Word Tokenization:\n",
      " ['A', 'medevac', 'plane', 'crashed', 'soon', 'after', 'takeoff', 'in', 'Philadelphia', 'on', 'Friday', 'with', 'a', 'child', 'and', 'five', 'others', 'on', 'board', ',', 'the', 'air', 'ambulance', 'company', 'that', 'operated', 'it', 'said', ',', 'adding', 'that', 'it', 'had', 'not', 'confirmed', 'any', 'survivors', '.', 'Jet', 'Rescue', 'Air', 'Ambulance', ',', 'based', 'in', 'Mexico', 'and', 'licensed', 'to', 'operate', 'in', 'the', 'U.S.', ',', 'said', 'its', 'aircraft', 'crashed', 'with', 'four', 'crew', 'members', ',', 'one', 'pediatric', 'medical', 'patient', 'and', 'the', 'patient', \"'s\", 'mother', 'on', 'board', '.', '``', 'At', 'this', 'time', 'we', 'can', 'not', 'confirm', 'any', 'survivors', ',', \"''\", 'the', 'company', 'said', 'in', 'a', 'statement', '.']\n",
      "\n",
      " Normalized Words (Lowercased + Stemmed):\n",
      " ['a', 'medevac', 'plane', 'crash', 'soon', 'after', 'takeoff', 'in', 'philadelphia', 'on', 'friday', 'with', 'a', 'child', 'and', 'five', 'other', 'on', 'board', ',', 'the', 'air', 'ambul', 'compani', 'that', 'oper', 'it', 'said', ',', 'ad', 'that', 'it', 'had', 'not', 'confirm', 'ani', 'survivor', '.', 'jet', 'rescu', 'air', 'ambul', ',', 'base', 'in', 'mexico', 'and', 'licens', 'to', 'oper', 'in', 'the', 'u.s.', ',', 'said', 'it', 'aircraft', 'crash', 'with', 'four', 'crew', 'member', ',', 'one', 'pediatr', 'medic', 'patient', 'and', 'the', 'patient', \"'s\", 'mother', 'on', 'board', '.', '``', 'at', 'thi', 'time', 'we', 'can', 'not', 'confirm', 'ani', 'survivor', ',', \"''\", 'the', 'compani', 'said', 'in', 'a', 'statement', '.']\n"
     ]
    }
   ],
   "source": [
    "import nltk\n",
    "import os\n",
    "from nltk.tokenize import word_tokenize, sent_tokenize\n",
    "from nltk.stem import PorterStemmer\n",
    "nltk.download('all')\n",
    "\n",
    "#  Sample News Excerpt\n",
    "text = \"\"\"A medevac plane crashed soon after takeoff in Philadelphia on Friday with a child \n",
    "and five others on board, the air ambulance company that operated it said, adding that it \n",
    "had not confirmed any survivors. Jet Rescue Air Ambulance, based in Mexico and licensed to \n",
    "operate in the U.S., said its aircraft crashed with four crew members, one pediatric medical \n",
    "patient and the patient's mother on board. \"At this time we cannot confirm any survivors,\" \n",
    "the company said in a statement.\"\"\"\n",
    "\n",
    "#  Sentence Tokenization\n",
    "sentences = sent_tokenize(text)\n",
    "print(\"\\n Sentence Tokenization:\\n\", sentences)\n",
    "\n",
    "#  Word Tokenization\n",
    "words = word_tokenize(text)\n",
    "print(\"\\n Word Tokenization:\\n\", words)\n",
    "\n",
    "#  Normalization (Lowercasing + Stemming)\n",
    "ps = PorterStemmer()\n",
    "normalized_words = [ps.stem(word.lower()) for word in words]\n",
    "print(\"\\n Normalized Words (Lowercased + Stemmed):\\n\", normalized_words)"
   ]
  },
  {
   "cell_type": "markdown",
   "metadata": {},
   "source": [
    "# Part 2"
   ]
  },
  {
   "cell_type": "code",
   "execution_count": 38,
   "metadata": {},
   "outputs": [
    {
     "name": "stdout",
     "output_type": "stream",
     "text": [
      "\n",
      "✅POS Tagging:\n",
      " [('A', 'DT'), ('medevac', 'NN'), ('plane', 'NN'), ('crashed', 'VBD'), ('soon', 'RB'), ('after', 'IN'), ('takeoff', 'NN'), ('in', 'IN'), ('Philadelphia', 'NNP'), ('on', 'IN'), ('Friday', 'NNP'), ('with', 'IN'), ('a', 'DT'), ('child', 'NN'), ('and', 'CC'), ('five', 'CD'), ('others', 'NNS'), ('on', 'IN'), ('board', 'NN'), (',', ','), ('the', 'DT'), ('air', 'NN'), ('ambulance', 'NN'), ('company', 'NN'), ('that', 'WDT'), ('operated', 'VBD'), ('it', 'PRP'), ('said', 'VBD'), (',', ','), ('adding', 'VBG'), ('that', 'IN'), ('it', 'PRP'), ('had', 'VBD'), ('not', 'RB'), ('confirmed', 'VBN'), ('any', 'DT'), ('survivors', 'NNS'), ('.', '.'), ('Jet', 'NNP'), ('Rescue', 'NNP'), ('Air', 'NNP'), ('Ambulance', 'NNP'), (',', ','), ('based', 'VBN'), ('in', 'IN'), ('Mexico', 'NNP'), ('and', 'CC'), ('licensed', 'VBD'), ('to', 'TO'), ('operate', 'VB'), ('in', 'IN'), ('the', 'DT'), ('U.S.', 'NNP'), (',', ','), ('said', 'VBD'), ('its', 'PRP$'), ('aircraft', 'NN'), ('crashed', 'VBN'), ('with', 'IN'), ('four', 'CD'), ('crew', 'NN'), ('members', 'NNS'), (',', ','), ('one', 'CD'), ('pediatric', 'JJ'), ('medical', 'JJ'), ('patient', 'NN'), ('and', 'CC'), ('the', 'DT'), ('patient', 'NN'), (\"'s\", 'POS'), ('mother', 'NN'), ('on', 'IN'), ('board', 'NN'), ('.', '.'), ('``', '``'), ('At', 'IN'), ('this', 'DT'), ('time', 'NN'), ('we', 'PRP'), ('can', 'MD'), ('not', 'RB'), ('confirm', 'VB'), ('any', 'DT'), ('survivors', 'NNS'), (',', ','), (\"''\", \"''\"), ('the', 'DT'), ('company', 'NN'), ('said', 'VBD'), ('in', 'IN'), ('a', 'DT'), ('statement', 'NN'), ('.', '.')]\n",
      "\n",
      " POS Tag Frequency:\n",
      " [('NN', 17), ('IN', 12), ('DT', 10), ('NNP', 8), ('VBD', 7), (',', 6), ('NNS', 4), ('RB', 3), ('CC', 3), ('CD', 3), ('PRP', 3), ('VBN', 3), ('.', 3), ('VB', 2), ('JJ', 2), ('WDT', 1), ('VBG', 1), ('TO', 1), ('PRP$', 1), ('POS', 1), ('``', 1), ('MD', 1), (\"''\", 1)]\n",
      "\n",
      " Observations &  Patterns:\n",
      "✔ Common tags: NN (Noun), VB (Verb), JJ (Adjective)\n",
      "✔ Words like 'crashed' might be marked as VBD (past tense verb)\n",
      "✔ Proper nouns (e.g., Philadelphia, Mexico) should be tagged as NNP\n",
      "✔ Some errors may occur, especially for ambiguous words or abbreviations  (e.g., 'U.S.')\n"
     ]
    }
   ],
   "source": [
    "import nltk\n",
    "import os\n",
    "from nltk.tokenize import word_tokenize, sent_tokenize\n",
    "from nltk import pos_tag\n",
    "\n",
    "#  Sample News Excerpt\n",
    "text = \"\"\"A medevac plane crashed soon after takeoff in Philadelphia on Friday with a child \n",
    "and five others on board, the air ambulance company that operated it said, adding that it \n",
    "had not confirmed any survivors. Jet Rescue Air Ambulance, based in Mexico and licensed to \n",
    "operate in the U.S., said its aircraft crashed with four crew members, one pediatric medical \n",
    "patient and the patient's mother on board. \"At this time we cannot confirm any survivors,\" \n",
    "the company said in a statement.\"\"\"\n",
    "\n",
    "#  Word Tokenization\n",
    "words = word_tokenize(text)\n",
    "\n",
    "#  POS Tagging\n",
    "pos_tags = pos_tag(words)\n",
    "print(\"\\n✅POS Tagging:\\n\", pos_tags)\n",
    "\n",
    "#  Identify POS Frequency Distribution\n",
    "pos_freq = nltk.FreqDist(tag for (word, tag) in pos_tags)\n",
    "print(\"\\n POS Tag Frequency:\\n\", pos_freq.most_common())\n",
    "\n",
    "# Display Analysis\n",
    "print(\"\\n Observations &  Patterns:\")\n",
    "print(\"✔ Common tags: NN (Noun), VB (Verb), JJ (Adjective)\")\n",
    "print(\"✔ Words like 'crashed' might be marked as VBD (past tense verb)\")\n",
    "print(\"✔ Proper nouns (e.g., Philadelphia, Mexico) should be tagged as NNP\")\n",
    "print(\"✔ Some errors may occur, especially for ambiguous words or abbreviations  (e.g., 'U.S.')\")"
   ]
  },
  {
   "cell_type": "markdown",
   "metadata": {},
   "source": [
    "# Part3"
   ]
  },
  {
   "cell_type": "code",
   "execution_count": 39,
   "metadata": {},
   "outputs": [
    {
     "name": "stdout",
     "output_type": "stream",
     "text": [
      "\n",
      " Most Common Bi-Grams:\n",
      " [(('on', 'board'), 2), (('any', 'survivors'), 2), (('A', 'medevac'), 1), (('medevac', 'plane'), 1), (('plane', 'crashed'), 1)]\n",
      "\n",
      " Most Common Tri-Grams:\n",
      " [(('A', 'medevac', 'plane'), 1), (('medevac', 'plane', 'crashed'), 1), (('plane', 'crashed', 'soon'), 1), (('crashed', 'soon', 'after'), 1), (('soon', 'after', 'takeoff'), 1)]\n"
     ]
    }
   ],
   "source": [
    "import nltk\n",
    "import os\n",
    "from nltk.tokenize import word_tokenize\n",
    "from nltk.util import ngrams\n",
    "from nltk.probability import FreqDist\n",
    "\n",
    "#  Sample News Excerpt\n",
    "text = \"\"\"A medevac plane crashed soon after takeoff in Philadelphia on Friday with a child \n",
    "and five others on board, the air ambulance company that operated it said, adding that it \n",
    "had not confirmed any survivors. Jet Rescue Air Ambulance, based in Mexico and licensed to \n",
    "operate in the U.S., said its aircraft crashed with four crew members, one pediatric medical \n",
    "patient and the patient's mother on board. \"At this time we cannot confirm any survivors,\" \n",
    "the company said in a statement.\"\"\"\n",
    "\n",
    "#  Tokenize the text into words\n",
    "words = word_tokenize(text)\n",
    "\n",
    "#  Generate Bi-Grams and Tri-Grams\n",
    "bigrams = list(ngrams(words, 2))\n",
    "trigrams = list(ngrams(words, 3))\n",
    "\n",
    "#  Compute Frequency Distributions\n",
    "bigram_freq = FreqDist(bigrams)\n",
    "trigram_freq = FreqDist(trigrams)\n",
    "\n",
    "#  Most Common Bi-Grams and Tri-Grams\n",
    "top_bigrams = bigram_freq.most_common(5)\n",
    "top_trigrams = trigram_freq.most_common(5)\n",
    "\n",
    "#  Print Results\n",
    "print(\"\\n Most Common Bi-Grams:\\n\", top_bigrams)\n",
    "print(\"\\n Most Common Tri-Grams:\\n\", top_trigrams)"
   ]
  }
 ],
 "metadata": {
  "kernelspec": {
   "display_name": "Python 3",
   "language": "python",
   "name": "python3"
  },
  "language_info": {
   "codemirror_mode": {
    "name": "ipython",
    "version": 3
   },
   "file_extension": ".py",
   "mimetype": "text/x-python",
   "name": "python",
   "nbconvert_exporter": "python",
   "pygments_lexer": "ipython3",
   "version": "3.10.16"
  }
 },
 "nbformat": 4,
 "nbformat_minor": 2
}
