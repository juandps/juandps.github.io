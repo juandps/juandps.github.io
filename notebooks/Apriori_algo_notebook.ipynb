{
 "cells": [
  {
   "cell_type": "markdown",
   "id": "bb1c6e16",
   "metadata": {
    "id": "bb1c6e16"
   },
   "source": [
    "## Apriori Algo"
   ]
  },
  {
   "cell_type": "code",
   "execution_count": null,
   "id": "6d795b72",
   "metadata": {
    "id": "6d795b72"
   },
   "outputs": [],
   "source": [
    "\n",
    "# Uncomment the following line to install the required packages if necessary.\n",
    "# This section is commented out to comply with project requirements, but can be enabled as needed.\n",
    "# Install Flask, pyngrok\n",
    "\n",
    "\n",
    "#!pip install Flask pyngrok mlxtend apriori_python\n",
    "\n"
   ]
  },
  {
   "cell_type": "markdown",
   "id": "dcc9e9c9",
   "metadata": {
    "id": "dcc9e9c9"
   },
   "source": [
    "\n",
    "\n",
    "## Step 2: Authenticate ngrok with Authtoken\n",
    "\n"
   ]
  },
  {
   "cell_type": "code",
   "execution_count": 13,
   "id": "6fbfd3d1",
   "metadata": {
    "colab": {
     "base_uri": "https://localhost:8080/"
    },
    "id": "6fbfd3d1",
    "outputId": "0e740c6a-b098-44d9-ad1d-f77c238ae512"
   },
   "outputs": [
    {
     "name": "stderr",
     "output_type": "stream",
     "text": [
      "/usr/local/lib/python3.10/dist-packages/ipykernel/ipkernel.py:283: DeprecationWarning: `should_run_async` will not call `transform_cell` automatically in the future. Please pass the result to `transformed_cell` argument and any exception that happen during thetransform in `preprocessing_exc_tuple` in IPython 7.17 and above.\n",
      "  and should_run_async(code)\n"
     ]
    },
    {
     "name": "stdout",
     "output_type": "stream",
     "text": [
      "Authtoken saved to configuration file: /root/.config/ngrok/ngrok.yml\n"
     ]
    }
   ],
   "source": [
    "\n",
    "from pyngrok import ngrok\n",
    "\n",
    "# Authenticating with Ngrok dummy account. (I understant this is not a best practice, but for this midterm I'm willing to share this authtoken from a dummy ngrok account. There is no RISK)\n",
    "!ngrok authtoken 2nO5Pdb670AqfpTjoku4RBRNkh2_Z66TUwBnzBA2PyAiDjjg\n"
   ]
  },
  {
   "cell_type": "markdown",
   "id": "93f6eb88",
   "metadata": {
    "id": "93f6eb88"
   },
   "source": [
    "\n",
    "## Step 4: Set Up Flask App\n",
    "\n",
    "In this step, I'm creating a simple Flask web app with two routes. This is a basic app that I will later expose to the internet using ngrok.\n",
    "\n",
    "The Flask app will be created and run in Google Colab.\n"
   ]
  },
  {
   "cell_type": "code",
   "execution_count": 13,
   "id": "BA4iJBPPgc0f",
   "metadata": {
    "colab": {
     "base_uri": "https://localhost:8080/"
    },
    "id": "BA4iJBPPgc0f",
    "outputId": "0d82bcb6-81be-4dd9-c39f-72c4c312241c"
   },
   "outputs": [
    {
     "name": "stderr",
     "output_type": "stream",
     "text": [
      "/usr/local/lib/python3.10/dist-packages/ipykernel/ipkernel.py:283: DeprecationWarning: `should_run_async` will not call `transform_cell` automatically in the future. Please pass the result to `transformed_cell` argument and any exception that happen during thetransform in `preprocessing_exc_tuple` in IPython 7.17 and above.\n",
      "  and should_run_async(code)\n"
     ]
    }
   ],
   "source": []
  },
  {
   "cell_type": "markdown",
   "id": "B2sudIiVgeDa",
   "metadata": {
    "id": "B2sudIiVgeDa"
   },
   "source": [
    "## Step 5: Include Datasets Provided by Prof."
   ]
  },
  {
   "cell_type": "code",
   "execution_count": 14,
   "id": "bibmL42daisW",
   "metadata": {
    "colab": {
     "base_uri": "https://localhost:8080/"
    },
    "id": "bibmL42daisW",
    "outputId": "0467aff2-70cb-444b-9a37-9cc0e6630866"
   },
   "outputs": [
    {
     "name": "stderr",
     "output_type": "stream",
     "text": [
      "/usr/local/lib/python3.10/dist-packages/ipykernel/ipkernel.py:283: DeprecationWarning: `should_run_async` will not call `transform_cell` automatically in the future. Please pass the result to `transformed_cell` argument and any exception that happen during thetransform in `preprocessing_exc_tuple` in IPython 7.17 and above.\n",
      "  and should_run_async(code)\n"
     ]
    }
   ],
   "source": [
    "\n",
    "datasets = {\n",
    "    'Amazon': {\n",
    "        'items': [\n",
    "            \"A Beginner’s Guide\",\n",
    "            \"Java: The Complete Reference\",\n",
    "            \"Java For Dummies\",\n",
    "            \"Android Programming: The Big Nerd Ranch\",\n",
    "            \"Head First Java 2nd Edition\",\n",
    "            \"Beginning Programming with Java\",\n",
    "            \"Java 8 Pocket Guide\",\n",
    "            \"C++ Programming in Easy Steps\",\n",
    "            \"Effective Java (2nd Edition)\",\n",
    "            \"HTML and CSS: Design and Build Websites\"\n",
    "        ],\n",
    "        'transactions': [\n",
    "            [\"A Beginner’s Guide\", \"Java: The Complete Reference\", \"Java For Dummies\", \"Android Programming: The Big Nerd Ranch\"],\n",
    "            [\"A Beginner’s Guide\", \"Java: The Complete Reference\", \"Java For Dummies\"],\n",
    "            [\"A Beginner’s Guide\", \"Java: The Complete Reference\", \"Java For Dummies\", \"Android Programming: The Big Nerd Ranch\", \"Head First Java 2nd Edition\"],\n",
    "            [\"Android Programming: The Big Nerd Ranch\", \"Head First Java 2nd Edition\", \"Beginning Programming with Java\"],\n",
    "            [\"Android Programming: The Big Nerd Ranch\", \"Beginning Programming with Java\", \"Java 8 Pocket Guide\"],\n",
    "            [\"A Beginner’s Guide\", \"Android Programming: The Big Nerd Ranch\", \"Head First Java 2nd Edition\"],\n",
    "            [\"A Beginner’s Guide\", \"Head First Java 2nd Edition\", \"Beginning Programming with Java\"],\n",
    "            [\"Java: The Complete Reference\", \"Java For Dummies\", \"Android Programming: The Big Nerd Ranch\"],\n",
    "            [\"Java For Dummies\", \"Android Programming: The Big Nerd Ranch\", \"Head First Java 2nd Edition\", \"Beginning Programming with Java\"],\n",
    "            [\"Beginning Programming with Java\", \"Java 8 Pocket Guide\", \"C++ Programming in Easy Steps\"],\n",
    "            [\"A Beginner’s Guide\", \"Java: The Complete Reference\", \"Java For Dummies\", \"Android Programming: The Big Nerd Ranch\"],\n",
    "            [\"A Beginner’s Guide\", \"Java: The Complete Reference\", \"Java For Dummies\", \"HTML and CSS: Design and Build Websites\"],\n",
    "            [\"A Beginner’s Guide\", \"Java: The Complete Reference\", \"Java For Dummies\", \"Java 8 Pocket Guide\", \"HTML and CSS: Design and Build Websites\"],\n",
    "            [\"Java For Dummies\", \"Android Programming: The Big Nerd Ranch\", \"Head First Java 2nd Edition\"],\n",
    "            [\"Java For Dummies\", \"Android Programming: The Big Nerd Ranch\"],\n",
    "            [\"A Beginner’s Guide\", \"Java: The Complete Reference\", \"Java For Dummies\", \"Android Programming: The Big Nerd Ranch\"],\n",
    "            [\"A Beginner’s Guide\", \"Java: The Complete Reference\", \"Java For Dummies\", \"Android Programming: The Big Nerd Ranch\"],\n",
    "            [\"Head First Java 2nd Edition\", \"Beginning Programming with Java\", \"Java 8 Pocket Guide\"],\n",
    "            [\"Android Programming: The Big Nerd Ranch\", \"Head First Java 2nd Edition\"],\n",
    "            [\"A Beginner’s Guide\", \"Java: The Complete Reference\", \"Java For Dummies\"]\n",
    "        ]\n",
    "    },\n",
    "    'Best Buy': {\n",
    "        'items': [\n",
    "            \"Digital Camera\",\n",
    "            \"Laptop\",\n",
    "            \"Desktop\",\n",
    "            \"Printer\",\n",
    "            \"Flash Drive\",\n",
    "            \"Microsoft Office\",\n",
    "            \"Speakers\",\n",
    "            \"Laptop Case\",\n",
    "            \"Anti-Virus\",\n",
    "            \"External Hard-Drive\"\n",
    "        ],\n",
    "        'transactions': [\n",
    "            [\"Desktop\", \"Printer\", \"Flash Drive\", \"Microsoft Office\", \"Speakers\", \"Anti-Virus\"],\n",
    "            [\"Laptop\", \"Flash Drive\", \"Microsoft Office\", \"Laptop Case\", \"Anti-Virus\"],\n",
    "            [\"Laptop\", \"Printer\", \"Flash Drive\", \"Microsoft Office\", \"Anti-Virus\", \"Laptop Case\", \"External Hard-Drive\"],\n",
    "            [\"Laptop\", \"Printer\", \"Flash Drive\", \"Anti-Virus\", \"External Hard-Drive\", \"Laptop Case\"],\n",
    "            [\"Laptop\", \"Flash Drive\", \"Laptop Case\", \"Anti-Virus\"],\n",
    "            [\"Laptop\", \"Printer\", \"Flash Drive\", \"Microsoft Office\"],\n",
    "            [\"Desktop\", \"Printer\", \"Flash Drive\", \"Microsoft Office\"],\n",
    "            [\"Laptop\", \"External Hard-Drive\", \"Anti-Virus\"],\n",
    "            [\"Desktop\", \"Printer\", \"Flash Drive\", \"Microsoft Office\", \"Laptop Case\", \"Anti-Virus\", \"Speakers\", \"External Hard-Drive\"],\n",
    "            [\"Digital Camera\", \"Laptop\", \"Desktop\", \"Printer\", \"Flash Drive\", \"Microsoft Office\", \"Laptop Case\", \"Anti-Virus\", \"External Hard-Drive\", \"Speakers\"],\n",
    "            [\"Laptop\", \"Desktop\", \"Laptop Case\", \"External Hard-Drive\", \"Speakers\", \"Anti-Virus\"],\n",
    "            [\"Digital Camera\", \"Laptop\", \"Laptop Case\", \"External Hard-Drive\", \"Anti-Virus\", \"Speakers\"],\n",
    "            [\"Digital Camera\", \"Speakers\"],\n",
    "            [\"Digital Camera\", \"Desktop\", \"Printer\", \"Flash Drive\", \"Microsoft Office\"],\n",
    "            [\"Printer\", \"Flash Drive\", \"Microsoft Office\", \"Anti-Virus\", \"Laptop Case\", \"Speakers\", \"External Hard-Drive\"],\n",
    "            [\"Digital Camera\", \"Flash Drive\", \"Microsoft Office\", \"Anti-Virus\", \"Laptop Case\", \"External Hard-Drive\", \"Speakers\"],\n",
    "            [\"Digital Camera\", \"Laptop\", \"Laptop Case\"],\n",
    "            [\"Digital Camera\", \"Laptop Case\", \"Speakers\"],\n",
    "            [\"Digital Camera\", \"Laptop\", \"Printer\", \"Flash Drive\", \"Microsoft Office\", \"Speakers\", \"Laptop Case\", \"Anti-Virus\"],\n",
    "            [\"Digital Camera\", \"Laptop\", \"Speakers\", \"Anti-Virus\", \"Laptop Case\"]\n",
    "        ]\n",
    "    },\n",
    "    'K-Mart': {\n",
    "        'items': [\n",
    "            \"Quilts\",\n",
    "            \"Bedspreads\",\n",
    "            \"Decorative Pillows\",\n",
    "            \"Bed Skirts\",\n",
    "            \"Sheets\",\n",
    "            \"Shams\",\n",
    "            \"Bedding Collections\",\n",
    "            \"Kids Bedding\",\n",
    "            \"Embroidered Bedspread\",\n",
    "            \"Towels\"\n",
    "        ],\n",
    "        'transactions': [\n",
    "            [\"Decorative Pillows\", \"Quilts\", \"Embroidered Bedspread\"],\n",
    "            [\"Embroidered Bedspread\", \"Shams\", \"Kids Bedding\", \"Bedding Collections\", \"Bed Skirts\", \"Bedspreads\", \"Sheets\"],\n",
    "            [\"Decorative Pillows\", \"Quilts\", \"Embroidered Bedspread\", \"Shams\", \"Kids Bedding\", \"Bedding Collections\"],\n",
    "            [\"Kids Bedding\", \"Bedding Collections\", \"Sheets\", \"Bedspreads\", \"Bed Skirts\"],\n",
    "            [\"Decorative Pillows\", \"Kids Bedding\", \"Bedding Collections\", \"Sheets\", \"Bed Skirts\", \"Bedspreads\"],\n",
    "            [\"Bedding Collections\", \"Bedspreads\", \"Bed Skirts\", \"Sheets\", \"Shams\", \"Kids Bedding\"],\n",
    "            [\"Decorative Pillows\", \"Quilts\"],\n",
    "            [\"Decorative Pillows\", \"Quilts\", \"Embroidered Bedspread\"],\n",
    "            [\"Bedspreads\", \"Bed Skirts\", \"Shams\", \"Kids Bedding\", \"Sheets\"],\n",
    "            [\"Quilts\", \"Embroidered Bedspread\", \"Bedding Collections\"],\n",
    "            [\"Bedding Collections\", \"Bedspreads\", \"Bed Skirts\", \"Kids Bedding\", \"Shams\", \"Sheets\"],\n",
    "            [\"Decorative Pillows\", \"Quilts\"],\n",
    "            [\"Embroidered Bedspread\", \"Shams\"],\n",
    "            [\"Sheets\", \"Shams\", \"Bed Skirts\", \"Kids Bedding\"],\n",
    "            [\"Decorative Pillows\", \"Quilts\"],\n",
    "            [\"Decorative Pillows\", \"Kids Bedding\", \"Bed Skirts\", \"Shams\"],\n",
    "            [\"Decorative Pillows\", \"Shams\", \"Bed Skirts\"],\n",
    "            [\"Quilts\", \"Sheets\", \"Kids Bedding\"],\n",
    "            [\"Shams\", \"Bed Skirts\", \"Kids Bedding\", \"Sheets\"],\n",
    "            [\"Decorative Pillows\", \"Bedspreads\", \"Shams\", \"Sheets\", \"Bed Skirts\", \"Kids Bedding\"]\n",
    "        ]\n",
    "    },\n",
    "    'Nike': {\n",
    "        'items': [\n",
    "            \"Running Shoe\",\n",
    "            \"Soccer Shoe\",\n",
    "            \"Socks\",\n",
    "            \"Swimming Shirt\",\n",
    "            \"Dry Fit V-Neck\",\n",
    "            \"Rash Guard\",\n",
    "            \"Sweatshirts\",\n",
    "            \"Hoodies\",\n",
    "            \"Tech Pants\",\n",
    "            \"Modern Pants\"\n",
    "        ],\n",
    "        'transactions': [\n",
    "            [\"Running Shoe\", \"Socks\", \"Sweatshirts\", \"Modern Pants\"],\n",
    "            [\"Running Shoe\", \"Socks\", \"Sweatshirts\"],\n",
    "            [\"Running Shoe\", \"Socks\", \"Sweatshirts\", \"Modern Pants\"],\n",
    "            [\"Running Shoe\", \"Sweatshirts\", \"Modern Pants\"],\n",
    "            [\"Running Shoe\", \"Socks\", \"Sweatshirts\", \"Modern Pants\", \"Soccer Shoe\"],\n",
    "            [\"Running Shoe\", \"Socks\", \"Sweatshirts\"],\n",
    "            [\"Running Shoe\", \"Socks\", \"Sweatshirts\", \"Modern Pants\", \"Tech Pants\", \"Rash Guard\", \"Hoodies\"],\n",
    "            [\"Swimming Shirt\", \"Socks\", \"Sweatshirts\"],\n",
    "            [\"Swimming Shirt\", \"Rash Guard\", \"Dry Fit V-Neck\", \"Hoodies\", \"Tech Pants\"],\n",
    "            [\"Swimming Shirt\", \"Rash Guard\", \"Dry Fit V-Neck\"],\n",
    "            [\"Swimming Shirt\", \"Rash Guard\", \"Dry Fit V-Neck\"],\n",
    "            [\"Running Shoe\", \"Swimming Shirt\", \"Socks\", \"Sweatshirts\", \"Modern Pants\", \"Soccer Shoe\", \"Rash Guard\", \"Hoodies\", \"Tech Pants\", \"Dry Fit V-Neck\"],\n",
    "            [\"Running Shoe\", \"Swimming Shirt\", \"Socks\", \"Sweatshirts\", \"Modern Pants\", \"Soccer Shoe\", \"Rash Guard\", \"Tech Pants\", \"Dry Fit V-Neck\", \"Hoodies\"],\n",
    "            [\"Running Shoe\", \"Swimming Shirt\", \"Rash Guard\", \"Tech Pants\", \"Hoodies\", \"Dry Fit V-Neck\"],\n",
    "            [\"Running Shoe\", \"Swimming Shirt\", \"Socks\", \"Sweatshirts\", \"Modern Pants\", \"Dry Fit V-Neck\", \"Rash Guard\", \"Tech Pants\"],\n",
    "            [\"Swimming Shirt\", \"Soccer Shoe\", \"Hoodies\", \"Dry Fit V-Neck\", \"Tech Pants\", \"Rash Guard\"],\n",
    "            [\"Running Shoe\", \"Socks\"],\n",
    "            [\"Socks\", \"Sweatshirts\", \"Modern Pants\", \"Soccer Shoe\", \"Hoodies\", \"Rash Guard\", \"Tech Pants\", \"Dry Fit V-Neck\"],\n",
    "            [\"Running Shoe\", \"Swimming Shirt\", \"Rash Guard\"],\n",
    "            [\"Running Shoe\", \"Swimming Shirt\", \"Socks\", \"Sweatshirts\", \"Modern Pants\", \"Soccer Shoe\", \"Hoodies\", \"Tech Pants\", \"Rash Guard\", \"Dry Fit V-Neck\"]\n",
    "        ]\n",
    "    },\n",
    "    'Generic': {\n",
    "        'items': [\"A\", \"B\", \"C\", \"D\", \"E\", \"F\"],\n",
    "        'transactions': [\n",
    "            [\"A\", \"B\", \"C\"],\n",
    "            [\"A\", \"B\", \"C\"],\n",
    "            [\"A\", \"B\", \"C\", \"D\"],\n",
    "            [\"A\", \"B\", \"C\", \"D\", \"E\"],\n",
    "            [\"A\", \"B\", \"D\", \"E\"],\n",
    "            [\"A\", \"D\", \"E\"],\n",
    "            [\"A\", \"E\"],\n",
    "            [\"A\", \"E\"],\n",
    "            [\"A\", \"C\", \"E\"],\n",
    "            [\"A\", \"C\", \"E\"],\n",
    "            [\"A\", \"C\", \"E\"]\n",
    "        ]\n",
    "    }\n",
    "}"
   ]
  },
  {
   "cell_type": "markdown",
   "id": "S_YviaIlOwy6",
   "metadata": {
    "id": "S_YviaIlOwy6"
   },
   "source": [
    "## Step 6: Import all depedencies and initialize Flask App"
   ]
  },
  {
   "cell_type": "code",
   "execution_count": 15,
   "id": "Z0UsvzduN7ZH",
   "metadata": {
    "colab": {
     "base_uri": "https://localhost:8080/"
    },
    "id": "Z0UsvzduN7ZH",
    "outputId": "a6cf82eb-b3d7-4558-9c66-f287c7bfa17a"
   },
   "outputs": [
    {
     "name": "stderr",
     "output_type": "stream",
     "text": [
      "/usr/local/lib/python3.10/dist-packages/ipykernel/ipkernel.py:283: DeprecationWarning: `should_run_async` will not call `transform_cell` automatically in the future. Please pass the result to `transformed_cell` argument and any exception that happen during thetransform in `preprocessing_exc_tuple` in IPython 7.17 and above.\n",
      "  and should_run_async(code)\n"
     ]
    }
   ],
   "source": [
    "# Import necessary libraries\n",
    "from flask import Flask, render_template_string, request\n",
    "import itertools\n",
    "import time\n",
    "from pyngrok import ngrok\n",
    "from mlxtend.frequent_patterns import apriori, fpgrowth\n",
    "from apriori_python import apriori as apriori_py\n",
    "from mlxtend.preprocessing import TransactionEncoder\n",
    "import pandas as pd\n",
    "from mlxtend.frequent_patterns import association_rules\n",
    "\n",
    "# Initialize Flask app\n",
    "app = Flask(__name__)"
   ]
  },
  {
   "cell_type": "markdown",
   "id": "XjqNHANjOG46",
   "metadata": {
    "id": "XjqNHANjOG46"
   },
   "source": [
    "## Function to generate all possible itemsets using **Bruteforce**"
   ]
  },
  {
   "cell_type": "code",
   "execution_count": 16,
   "id": "1cHF2QpVODVR",
   "metadata": {
    "colab": {
     "base_uri": "https://localhost:8080/"
    },
    "id": "1cHF2QpVODVR",
    "outputId": "ba4c0902-2d30-456c-d8ba-38fb884b339c"
   },
   "outputs": [
    {
     "name": "stderr",
     "output_type": "stream",
     "text": [
      "/usr/local/lib/python3.10/dist-packages/ipykernel/ipkernel.py:283: DeprecationWarning: `should_run_async` will not call `transform_cell` automatically in the future. Please pass the result to `transformed_cell` argument and any exception that happen during thetransform in `preprocessing_exc_tuple` in IPython 7.17 and above.\n",
      "  and should_run_async(code)\n"
     ]
    }
   ],
   "source": [
    "# Function to generate all possible itemsets\n",
    "def generate_itemsets(items, length):\n",
    "    return list(itertools.combinations(items, length))\n",
    "\n",
    "# Function to generate frequent itemsets using brute-force\n",
    "def generate_frequent_itemsets(items, transactions, min_support):\n",
    "    total_transactions = len(transactions)\n",
    "    min_support_count = total_transactions * (min_support / 100)  # Convert percentage to absolute count\n",
    "    max_length = len(items)\n",
    "    frequent_itemsets = {}\n",
    "    for k in range(1, max_length + 1):\n",
    "        itemsets = generate_itemsets(items, k)\n",
    "        itemset_support = {}\n",
    "        for itemset in itemsets:\n",
    "            support = calculate_support(itemset, transactions)\n",
    "            if support >= min_support_count:\n",
    "                itemset_support[itemset] = support / total_transactions  # Store support as a fraction\n",
    "        if not itemset_support:\n",
    "            break\n",
    "        frequent_itemsets.update(itemset_support)\n",
    "    return frequent_itemsets\n",
    "\n",
    "# Function to calculate support for each itemset\n",
    "def calculate_support(itemset, transactions):\n",
    "    count = 0\n",
    "    for transaction in transactions:\n",
    "        if set(itemset).issubset(set(transaction)):\n",
    "            count += 1\n",
    "    return count\n",
    "\n",
    "# Function to generate association rules for brute-force method\n",
    "def generate_association_rules(frequent_itemsets, transactions, min_confidence):\n",
    "    rules = []\n",
    "    total_transactions = len(transactions)\n",
    "\n",
    "    for itemset, support in frequent_itemsets.items():\n",
    "        if len(itemset) < 2:\n",
    "            continue\n",
    "\n",
    "        # Generate all possible subsets (antecedents)\n",
    "        subsets = list(itertools.chain(*[itertools.combinations(itemset, i) for i in range(1, len(itemset))]))\n",
    "\n",
    "        for antecedent in subsets:\n",
    "            consequent = tuple(set(itemset) - set(antecedent))\n",
    "            if consequent:\n",
    "                antecedent_support = calculate_support(antecedent, transactions) / total_transactions\n",
    "                confidence = support / antecedent_support  # Confidence is a fraction\n",
    "\n",
    "                if confidence >= (min_confidence / 100):  # Convert percentage to fraction\n",
    "                    rules.append({\n",
    "                        'antecedent': antecedent,\n",
    "                        'consequent': consequent,\n",
    "                        'support': support,  # Already a fraction\n",
    "                        'confidence': confidence\n",
    "                    })\n",
    "    return rules"
   ]
  },
  {
   "cell_type": "markdown",
   "id": "wM46yTCWOMZw",
   "metadata": {
    "id": "wM46yTCWOMZw"
   },
   "source": [
    "## Function to get results using  **Apriori**  Python"
   ]
  },
  {
   "cell_type": "code",
   "execution_count": 17,
   "id": "9eee98ce",
   "metadata": {
    "colab": {
     "base_uri": "https://localhost:8080/"
    },
    "id": "9eee98ce",
    "outputId": "0e64c151-3834-4cab-a97b-35c63b52af79"
   },
   "outputs": [
    {
     "name": "stderr",
     "output_type": "stream",
     "text": [
      "/usr/local/lib/python3.10/dist-packages/ipykernel/ipkernel.py:283: DeprecationWarning: `should_run_async` will not call `transform_cell` automatically in the future. Please pass the result to `transformed_cell` argument and any exception that happen during thetransform in `preprocessing_exc_tuple` in IPython 7.17 and above.\n",
      "  and should_run_async(code)\n"
     ]
    }
   ],
   "source": [
    "# Function to run Apriori using apriori_python and adjusting min_support and min_confidence\n",
    "def run_apriori_python(transactions, min_support, min_confidence):\n",
    "    min_support_fraction = min_support / 100  # Convert to fraction\n",
    "    min_confidence_fraction = min_confidence / 100  # Convert to fraction\n",
    "    freqItemSet, rules = apriori_py(transactions, minSup=min_support_fraction, minConf=min_confidence_fraction)\n",
    "    return freqItemSet, rules\n",
    "\n",
    "\n",
    "\n",
    "\n",
    "\n"
   ]
  },
  {
   "cell_type": "markdown",
   "id": "bTqALspUg2ro",
   "metadata": {
    "id": "bTqALspUg2ro"
   },
   "source": [
    "## Function to get results using **FP Growth** Python"
   ]
  },
  {
   "cell_type": "code",
   "execution_count": 18,
   "id": "VHQlhKq9hD95",
   "metadata": {
    "colab": {
     "base_uri": "https://localhost:8080/"
    },
    "id": "VHQlhKq9hD95",
    "outputId": "4bdd50a3-337d-44c0-ef56-26b0e18fae52"
   },
   "outputs": [
    {
     "name": "stderr",
     "output_type": "stream",
     "text": [
      "/usr/local/lib/python3.10/dist-packages/ipykernel/ipkernel.py:283: DeprecationWarning: `should_run_async` will not call `transform_cell` automatically in the future. Please pass the result to `transformed_cell` argument and any exception that happen during thetransform in `preprocessing_exc_tuple` in IPython 7.17 and above.\n",
      "  and should_run_async(code)\n"
     ]
    }
   ],
   "source": [
    "def run_fp_growth(transactions, min_support, min_confidence):\n",
    "    # Perform transaction encoding\n",
    "    te = TransactionEncoder()\n",
    "    te_ary = te.fit(transactions).transform(transactions, sparse=True)\n",
    "    df = pd.DataFrame.sparse.from_spmatrix(te_ary, columns=te.columns_)\n",
    "\n",
    "    # Generate frequent itemsets using FP-Growth\n",
    "    min_support_fraction = min_support / 100\n",
    "    freq_itemsets = fpgrowth(df, min_support=min_support_fraction, use_colnames=True)\n",
    "\n",
    "    print(\"FP-Growth Frequent Itemsets:\", freq_itemsets)  # Debug: Print frequent itemsets\n",
    "\n",
    "    # Generate association rules from the frequent itemsets\n",
    "    if not freq_itemsets.empty:\n",
    "        rules = association_rules(freq_itemsets, metric=\"confidence\", min_threshold=min_confidence / 100)\n",
    "        print(\"FP-Growth Rules:\", rules)  # Debug: Print rules\n",
    "    else:\n",
    "        rules = pd.DataFrame()  # Return empty dataframe if no frequent itemsets\n",
    "\n",
    "    return freq_itemsets, rules"
   ]
  },
  {
   "cell_type": "markdown",
   "id": "coqkB0wfQrQO",
   "metadata": {
    "id": "coqkB0wfQrQO"
   },
   "source": [
    "## Test **bruteforce** vs **apriori**\n"
   ]
  },
  {
   "cell_type": "code",
   "execution_count": 19,
   "id": "xUW_GhfkQt9u",
   "metadata": {
    "colab": {
     "base_uri": "https://localhost:8080/"
    },
    "id": "xUW_GhfkQt9u",
    "outputId": "019f5865-96bf-4245-bf30-fe2fafcf1f67"
   },
   "outputs": [
    {
     "name": "stderr",
     "output_type": "stream",
     "text": [
      "/usr/local/lib/python3.10/dist-packages/ipykernel/ipkernel.py:283: DeprecationWarning: `should_run_async` will not call `transform_cell` automatically in the future. Please pass the result to `transformed_cell` argument and any exception that happen during thetransform in `preprocessing_exc_tuple` in IPython 7.17 and above.\n",
      "  and should_run_async(code)\n"
     ]
    }
   ],
   "source": [
    "# Function to compare brute-force and Apriori results\n",
    "def test_bruteforce_vs_apriori(frequent_itemsets_brute, rules_brute, transactions, min_support, min_confidence):\n",
    "    # Run Apriori\n",
    "    freqItemSet_apriori, rules_apriori = run_apriori_python(transactions, min_support, min_confidence)\n",
    "\n",
    "    # DEBUG: Print the structure of the returned freqItemSet_apriori and rules_apriori to understand their contents\n",
    "    print(\"Apriori frequent itemsets:\", freqItemSet_apriori)\n",
    "    print(\"Apriori rules:\", rules_apriori)\n",
    "\n",
    "    # Handle Brute-force itemsets\n",
    "    itemsets_brute = set(frequent_itemsets_brute.keys())\n",
    "\n",
    "    # Handle Apriori frequent itemsets by iterating over dictionary values\n",
    "    itemsets_apriori = set()\n",
    "    for itemset_size, itemsets in freqItemSet_apriori.items():\n",
    "        for itemset in itemsets:\n",
    "            if isinstance(itemset, (list, tuple, frozenset)):  # Check if itemset is iterable\n",
    "                itemsets_apriori.add(tuple(sorted(itemset)))\n",
    "            else:\n",
    "                print(f\"Skipping non-iterable itemset: {itemset_size}\")\n",
    "\n",
    "    # Convert to sets for comparison\n",
    "    sorted_brute_itemsets = {tuple(sorted(itemset)) for itemset in itemsets_brute}\n",
    "    sorted_apriori_itemsets = {tuple(sorted(itemset)) for itemset in itemsets_apriori}\n",
    "\n",
    "    # Compare sorted itemsets as sets (ignoring order within each itemset)\n",
    "    itemset_comparison = \"Match\" if sorted_brute_itemsets == sorted_apriori_itemsets else \"Do not match\"\n",
    "\n",
    "    # Sort Brute-force rules by sorted antecedent and consequent\n",
    "    sorted_brute_rules = sorted(\n",
    "        rules_brute,\n",
    "        key=lambda rule: (\", \".join(sorted(rule['antecedent'])), \", \".join(sorted(rule['consequent'])))\n",
    "    )\n",
    "\n",
    "    # Compare rules (ensure we correctly access the rule structure)\n",
    "    rules_brute_set = set()\n",
    "    for rule in sorted_brute_rules:\n",
    "        antecedent = tuple(sorted(rule['antecedent']))\n",
    "        consequent = tuple(sorted(rule['consequent']))\n",
    "        rules_brute_set.add((antecedent, consequent))\n",
    "\n",
    "    rules_apriori_set = set()\n",
    "    sorted_apriori_rules = sorted(\n",
    "        rules_apriori,\n",
    "        key=lambda rule: (\", \".join(sorted(rule[0])), \", \".join(sorted(rule[1])))\n",
    "    )\n",
    "    for rule in sorted_apriori_rules:\n",
    "        if isinstance(rule, list) and len(rule) == 3:  # Expecting [antecedent, consequent, confidence]\n",
    "            antecedent, consequent, confidence = rule\n",
    "            rules_apriori_set.add((tuple(sorted(antecedent)), tuple(sorted(consequent))))\n",
    "        else:\n",
    "            print(f\"Skipping unexpected rule structure: {rule}\")\n",
    "\n",
    "    rule_comparison = \"Match\" if rules_brute_set == rules_apriori_set else \"Do not match\"\n",
    "\n",
    "    # Generate HTML content for tables without parentheses or quotes\n",
    "    brute_itemsets_html = ''.join(f'<tr><td>{\", \".join(sorted(itemset))}</td></tr>' for itemset in sorted_brute_itemsets)\n",
    "    apriori_itemsets_html = ''.join(f'<tr><td>{\", \".join(sorted(itemset))}</td></tr>' for itemset in sorted_apriori_itemsets)\n",
    "\n",
    "    brute_rules_html = ''.join(\n",
    "        f'<tr><td>{\", \".join(sorted(rule[\"antecedent\"]))}</td><td>{\", \".join(sorted(rule[\"consequent\"]))}</td><td>{rule[\"confidence\"]:.2f}</td></tr>'\n",
    "        for rule in sorted_brute_rules\n",
    "    )\n",
    "\n",
    "    # Now properly handle the list-based structure for Apriori rules\n",
    "    apriori_rules_html = ''.join(\n",
    "        f'<tr><td>{\", \".join(sorted(antecedent))}</td><td>{\", \".join(sorted(consequent))}</td><td>{confidence:.2f}</td></tr>'\n",
    "        for antecedent, consequent, confidence in sorted_apriori_rules\n",
    "        if isinstance(antecedent, (set, list, tuple)) and isinstance(consequent, (set, list, tuple))\n",
    "    )\n",
    "\n",
    "    return itemset_comparison, rule_comparison, brute_itemsets_html, apriori_itemsets_html, brute_rules_html, apriori_rules_html"
   ]
  },
  {
   "cell_type": "markdown",
   "id": "Nw9zSCFXOjjj",
   "metadata": {
    "id": "Nw9zSCFXOjjj"
   },
   "source": [
    "## Pure **Html** 3 pages"
   ]
  },
  {
   "cell_type": "code",
   "execution_count": 20,
   "id": "WKL9dtRuOil6",
   "metadata": {
    "colab": {
     "base_uri": "https://localhost:8080/"
    },
    "id": "WKL9dtRuOil6",
    "outputId": "626ce020-947d-4a96-8598-2f051be1db96"
   },
   "outputs": [
    {
     "name": "stderr",
     "output_type": "stream",
     "text": [
      "/usr/local/lib/python3.10/dist-packages/ipykernel/ipkernel.py:283: DeprecationWarning: `should_run_async` will not call `transform_cell` automatically in the future. Please pass the result to `transformed_cell` argument and any exception that happen during thetransform in `preprocessing_exc_tuple` in IPython 7.17 and above.\n",
      "  and should_run_async(code)\n"
     ]
    }
   ],
   "source": [
    "\n",
    "# HTML for the homepage\n",
    "home_template = \"\"\"\n",
    "<!DOCTYPE html>\n",
    "<html>\n",
    "<head>\n",
    "    <title>Midterm Project by Juan Diego Palacio NJIT 2024</title>\n",
    "    <style>\n",
    "        body {\n",
    "            background-color: #f0f0f0;\n",
    "            padding-left: 20px;\n",
    "            padding-top: 20px;\n",
    "        }\n",
    "        h1 {\n",
    "            color: #333;\n",
    "        }\n",
    "        label {\n",
    "            font-weight: bold;\n",
    "        }\n",
    "        form {\n",
    "            margin-bottom: 20px;\n",
    "        }\n",
    "        input[type=\"submit\"] {\n",
    "            background-color: #4CAF50;\n",
    "            color: white;\n",
    "            border: none;\n",
    "            padding: 10px 20px;\n",
    "            text-align: center;\n",
    "            display: inline-block;\n",
    "            font-size: 16px;\n",
    "            cursor: pointer;\n",
    "        }\n",
    "    </style>\n",
    "</head>\n",
    "<body>\n",
    "    <h1>Midterm Project by Juan Diego Palacio NJIT 2024</h1>\n",
    "\n",
    "    <!-- Form for running analysis -->\n",
    "    <form action=\"/results\" method=\"post\">\n",
    "        <label for=\"dataset\">Select Dataset:</label>\n",
    "        <select name=\"dataset\" id=\"dataset\">\n",
    "            {% for key in datasets.keys() %}\n",
    "            <option value=\"{{ key }}\">{{ key }}</option>\n",
    "            {% endfor %}\n",
    "        </select><br><br>\n",
    "        <label for=\"support\">Minimum Support (percentage):</label>\n",
    "        <input type=\"number\" name=\"support\" id=\"support\" min=\"1\" max=\"100\" required><br><br>\n",
    "        <label for=\"confidence\">Minimum Confidence (percentage):</label>\n",
    "        <input type=\"number\" step=\"1\" name=\"confidence\" id=\"confidence\" min=\"1\" max=\"100\" required><br><br>\n",
    "\n",
    "        <input type=\"submit\" value=\"Run Analysis\">\n",
    "    </form>\n",
    "\n",
    "    <br><br>\n",
    "\n",
    "    <!-- Form for running performance comparison -->\n",
    "    <form action=\"/compare\" method=\"post\">\n",
    "        <label for=\"dataset\">Select Dataset:</label>\n",
    "        <select name=\"dataset\" id=\"dataset\">\n",
    "            {% for key in datasets.keys() %}\n",
    "            <option value=\"{{ key }}\">{{ key }}</option>\n",
    "            {% endfor %}\n",
    "        </select><br><br>\n",
    "        <label for=\"support\">Minimum Support (percentage):</label>\n",
    "        <input type=\"number\" name=\"support\" id=\"support\" min=\"1\" max=\"100\" required><br><br>\n",
    "        <label for=\"confidence\">Minimum Confidence (percentage):</label>\n",
    "        <input type=\"number\" step=\"1\" name=\"confidence\" id=\"confidence\" min=\"1\" max=\"100\" required><br><br>\n",
    "\n",
    "        <input type=\"submit\" value=\"Run Performance Comparison\">\n",
    "    </form>\n",
    "\n",
    "</body>\n",
    "</html>\n",
    "\"\"\"\n",
    "\n",
    "@app.route('/', methods=['GET'])\n",
    "def home():\n",
    "    return render_template_string(home_template, datasets=datasets)\n",
    "\n",
    "# Results page template (for Brute-force and Apriori analysis)\n",
    "results_template = \"\"\"\n",
    "<!DOCTYPE html>\n",
    "<html>\n",
    "<head>\n",
    "    <title>Association Rule Mining Results</title>\n",
    "    <style>\n",
    "        body {\n",
    "            background-color: #f0f0f0;\n",
    "            padding-left: 20px;\n",
    "            padding-top: 20px;\n",
    "        }\n",
    "        table {\n",
    "            border-collapse: collapse;\n",
    "            width: 100%;\n",
    "            margin-top: 20px;\n",
    "        }\n",
    "        th, td {\n",
    "            padding: 8px 12px;\n",
    "            text-align: left;\n",
    "            border: 1px solid #ddd;\n",
    "        }\n",
    "        th {\n",
    "            background-color: #f2f2f2;\n",
    "        }\n",
    "        h1, h2 {\n",
    "            color: #333;\n",
    "        }\n",
    "        a {\n",
    "            color: #4CAF50;\n",
    "            text-decoration: none;\n",
    "        }\n",
    "    </style>\n",
    "</head>\n",
    "<body>\n",
    "    <h1>Performenace Results for Dataset: {{ dataset_name }}</h1>\n",
    "\n",
    "    <h2>Validation: Brute-Force vs Apriori</h2>\n",
    "    <p>Itemsets Match: {{ itemset_comparison }}</p>\n",
    "    <p>Rules Match: {{ rule_comparison }}</p>\n",
    "    <p>Execution Time: {{ execution_time }} seconds</p>\n",
    "\n",
    "    <h2>Brute-Force Frequent Itemsets</h2>\n",
    "    <table border=\"1\">\n",
    "        <tr>\n",
    "            <th>Frequent Itemset</th>\n",
    "        </tr>\n",
    "        {{ brute_itemsets_html | safe }}\n",
    "    </table>\n",
    "\n",
    "    <h2>Apriori Frequent Itemsets</h2>\n",
    "    <table border=\"1\">\n",
    "        <tr>\n",
    "            <th>Frequent Itemset</th>\n",
    "        </tr>\n",
    "        {{ apriori_itemsets_html | safe }}\n",
    "    </table>\n",
    "\n",
    "    <h2>Brute-Force Rules</h2>\n",
    "    <table border=\"1\">\n",
    "        <tr>\n",
    "            <th>Antecedent</th>\n",
    "            <th>Consequent</th>\n",
    "            <th>Confidence</th>\n",
    "        </tr>\n",
    "        {{ brute_rules_html | safe }}\n",
    "    </table>\n",
    "\n",
    "    <h2>Apriori Rules</h2>\n",
    "    <table border=\"1\">\n",
    "        <tr>\n",
    "            <th>Antecedent</th>\n",
    "            <th>Consequent</th>\n",
    "            <th>Confidence</th>\n",
    "        </tr>\n",
    "        {{ apriori_rules_html | safe }}\n",
    "    </table>\n",
    "\n",
    "    <a href=\"/\">Run Another Analysis</a>\n",
    "\n",
    "    <footer style=\"padding-top: 20px;\">\n",
    "        <p>&copy; 2024 Juan Diego Palacio, NJIT</p>\n",
    "    </footer>\n",
    "</body>\n",
    "</html>\n",
    "\"\"\"\n",
    "\n",
    "# Performance comparison page template\n",
    "performance_template = \"\"\"\n",
    "<!DOCTYPE html>\n",
    "<html>\n",
    "<head>\n",
    "    <title>Performance Comparison Results</title>\n",
    "    <style>\n",
    "        body {\n",
    "            background-color: #f0f0f0;\n",
    "            padding-left: 20px;\n",
    "            padding-top: 20px;\n",
    "        }\n",
    "        table {\n",
    "            border-collapse: collapse;\n",
    "            width: 100%;\n",
    "            margin-top: 20px;\n",
    "        }\n",
    "        th, td {\n",
    "            padding: 8px 12px;\n",
    "            text-align: left;\n",
    "            border: 1px solid #ddd;\n",
    "        }\n",
    "        th {\n",
    "            background-color: #f2f2f2;\n",
    "        }\n",
    "        h1, h2 {\n",
    "            color: #333;\n",
    "        }\n",
    "        a {\n",
    "            color: #4CAF50;\n",
    "            text-decoration: none;\n",
    "        }\n",
    "    </style>\n",
    "</head>\n",
    "<body>\n",
    "    <h1>Performance Comparison for Dataset: {{ dataset_name }}</h1>\n",
    "\n",
    "    <h2>Performance Comparison</h2>\n",
    "    <table border=\"1\">\n",
    "        <tr>\n",
    "            <th>Algorithm</th>\n",
    "            <th>Execution Time (seconds)</th>\n",
    "            <th>Number of Frequent Itemsets</th>\n",
    "            <th>Number of Rules</th>\n",
    "        </tr>\n",
    "        <tr>\n",
    "            <td>Brute-Force</td>\n",
    "            <td>{{ brute_force_time }}</td>\n",
    "            <td>{{ brute_force_itemsets }}</td>\n",
    "            <td>{{ brute_force_rules }}</td>\n",
    "        </tr>\n",
    "        <tr>\n",
    "            <td>Apriori</td>\n",
    "            <td>{{ apriori_time }}</td>\n",
    "            <td>{{ apriori_itemsets }}</td>\n",
    "            <td>{{ apriori_rules }}</td>\n",
    "        </tr>\n",
    "        <tr>\n",
    "            <td>FP-Growth</td>\n",
    "            <td>{{ fp_growth_time }}</td>\n",
    "            <td>{{ fp_growth_itemsets }}</td>\n",
    "            <td>{{ fp_growth_rules }}</td>\n",
    "        </tr>\n",
    "    </table>\n",
    "\n",
    "    <a href=\"/\">Run Another Analysis</a>\n",
    "\n",
    "    <footer style=\"padding-top: 20px;\">\n",
    "        <p>&copy; 2024 Juan Diego Palacio, NJIT</p>\n",
    "    </footer>\n",
    "</body>\n",
    "</html>\n",
    "\"\"\"\n",
    "\n",
    "\n"
   ]
  },
  {
   "cell_type": "markdown",
   "id": "C7mEOcWaOm7B",
   "metadata": {
    "id": "C7mEOcWaOm7B"
   },
   "source": [
    "## APis"
   ]
  },
  {
   "cell_type": "code",
   "execution_count": 21,
   "id": "ZpUmSL7fOb3l",
   "metadata": {
    "colab": {
     "base_uri": "https://localhost:8080/"
    },
    "id": "ZpUmSL7fOb3l",
    "outputId": "54a03457-6d1a-4313-d805-eba3b7285706"
   },
   "outputs": [
    {
     "name": "stderr",
     "output_type": "stream",
     "text": [
      "/usr/local/lib/python3.10/dist-packages/ipykernel/ipkernel.py:283: DeprecationWarning: `should_run_async` will not call `transform_cell` automatically in the future. Please pass the result to `transformed_cell` argument and any exception that happen during thetransform in `preprocessing_exc_tuple` in IPython 7.17 and above.\n",
      "  and should_run_async(code)\n"
     ]
    }
   ],
   "source": [
    "\n",
    "\n",
    "@app.route('/results', methods=['POST'])\n",
    "def results():\n",
    "    dataset_name = request.form['dataset']\n",
    "    min_support = int(request.form['support'])  # Keep as percentage (0-100%)\n",
    "    min_confidence = float(request.form['confidence'])  # Keep as percentage (0-100%)\n",
    "\n",
    "    # Load dataset\n",
    "    data = datasets.get(dataset_name)\n",
    "    items = data['items']\n",
    "    transactions = data['transactions']\n",
    "\n",
    "    # Start measuring time\n",
    "    start_time = time.perf_counter()\n",
    "\n",
    "    # Run analysis using Brute-force and Apriori comparison\n",
    "    frequent_itemsets_brute = generate_frequent_itemsets(items, transactions, min_support)\n",
    "    rules_brute = generate_association_rules(frequent_itemsets_brute, transactions, min_confidence)\n",
    "\n",
    "    itemset_comparison, rule_comparison, brute_itemsets_html, apriori_itemsets_html, brute_rules_html, apriori_rules_html = test_bruteforce_vs_apriori(\n",
    "        frequent_itemsets_brute, rules_brute, transactions, min_support, min_confidence)\n",
    "\n",
    "    # Stop measuring time\n",
    "    end_time = time.perf_counter()\n",
    "    execution_time = f'{end_time - start_time:.8f}'  # Time in seconds with 8 decimal places\n",
    "\n",
    "    # Render the results\n",
    "    return render_template_string(results_template, dataset_name=dataset_name,\n",
    "                                  itemset_comparison=itemset_comparison,\n",
    "                                  rule_comparison=rule_comparison,\n",
    "                                  brute_itemsets_html=brute_itemsets_html,\n",
    "                                  apriori_itemsets_html=apriori_itemsets_html,\n",
    "                                  brute_rules_html=brute_rules_html,\n",
    "                                  apriori_rules_html=apriori_rules_html,\n",
    "                                  execution_time=execution_time)  # Pass execution time to template\n",
    "\n",
    "@app.route('/compare', methods=['POST'])\n",
    "def compare():\n",
    "    dataset_name = request.form['dataset']\n",
    "    min_support = int(request.form['support'])  # Keep as percentage (0-100%)\n",
    "    min_confidence = float(request.form['confidence'])  # Keep as percentage (0-100%)\n",
    "\n",
    "    # Load dataset\n",
    "    data = datasets.get(dataset_name)\n",
    "    items = data['items']\n",
    "    transactions = data['transactions']\n",
    "\n",
    "    # Brute-Force analysis\n",
    "    perf_start = time.perf_counter()  # Start wall-clock time\n",
    "    cpu_start = time.process_time()  # Start CPU time\n",
    "\n",
    "    frequent_itemsets_brute = generate_frequent_itemsets(items, transactions, min_support)\n",
    "    rules_brute = generate_association_rules(frequent_itemsets_brute, transactions, min_confidence)\n",
    "\n",
    "    brute_force_perf_time = f'{time.perf_counter() - perf_start:.8f}'  # Wall-clock time\n",
    "    brute_force_cpu_time = f'{time.process_time() - cpu_start:.8f}'  # CPU time\n",
    "    brute_force_itemsets = len(frequent_itemsets_brute)\n",
    "    brute_force_rules = len(rules_brute)\n",
    "\n",
    "    print(\"Brute-force wall-clock time:\", brute_force_perf_time)\n",
    "    print(\"Brute-force CPU time:\", brute_force_cpu_time)\n",
    "\n",
    "    # Apriori analysis\n",
    "    perf_start = time.perf_counter()  # Start wall-clock time\n",
    "    cpu_start = time.process_time()  # Start CPU time\n",
    "\n",
    "    freqItemSet_apriori, rules_apriori = run_apriori_python(transactions, min_support, min_confidence)\n",
    "\n",
    "    apriori_perf_time = f'{time.perf_counter() - perf_start:.8f}'  # Wall-clock time\n",
    "    apriori_cpu_time = f'{time.process_time() - cpu_start:.8f}'  # CPU time\n",
    "    apriori_itemsets = sum(len(itemsets) for itemsets in freqItemSet_apriori.values())\n",
    "    apriori_rules = len(rules_apriori)\n",
    "\n",
    "    print(\"Apriori wall-clock time:\", apriori_perf_time)\n",
    "    print(\"Apriori CPU time:\", apriori_cpu_time)\n",
    "\n",
    "    # FP-Growth analysis\n",
    "    perf_start = time.perf_counter()  # Start wall-clock time\n",
    "    cpu_start = time.process_time()  # Start CPU time\n",
    "\n",
    "    freqItemSet_fp, rules_fp = run_fp_growth(transactions, min_support, min_confidence)\n",
    "\n",
    "    fp_growth_perf_time = f'{time.perf_counter() - perf_start:.8f}'  # Wall-clock time\n",
    "    fp_growth_cpu_time = f'{time.process_time() - cpu_start:.8f}'  # CPU time\n",
    "    fp_growth_itemsets = len(freqItemSet_fp)\n",
    "    fp_growth_rules = len(rules_fp)\n",
    "\n",
    "    print(\"FP-Growth wall-clock time:\", fp_growth_perf_time)\n",
    "    print(\"FP-Growth CPU time:\", fp_growth_cpu_time)\n",
    "\n",
    "    # Render the comparison results\n",
    "    return render_template_string(performance_template, dataset_name=dataset_name,\n",
    "                                  brute_force_time=f'{brute_force_perf_time} (Wall-clock) / {brute_force_cpu_time} (CPU)',\n",
    "                                  brute_force_itemsets=brute_force_itemsets,\n",
    "                                  brute_force_rules=brute_force_rules,\n",
    "                                  apriori_time=f'{apriori_perf_time} (Wall-clock) / {apriori_cpu_time} (CPU)',\n",
    "                                  apriori_itemsets=apriori_itemsets,\n",
    "                                  apriori_rules=apriori_rules,\n",
    "                                  fp_growth_time=f'{fp_growth_perf_time} (Wall-clock) / {fp_growth_cpu_time} (CPU)',\n",
    "                                  fp_growth_itemsets=fp_growth_itemsets,\n",
    "                                  fp_growth_rules=fp_growth_rules)\n",
    "\n"
   ]
  },
  {
   "cell_type": "markdown",
   "id": "91l92ghSOqQP",
   "metadata": {
    "id": "91l92ghSOqQP"
   },
   "source": [
    "#  Print Results Web App - Ngrok Tunnel (Expand this section to review results)"
   ]
  },
  {
   "cell_type": "code",
   "execution_count": null,
   "id": "ppeTTZN_OBEk",
   "metadata": {
    "colab": {
     "base_uri": "https://localhost:8080/"
    },
    "id": "ppeTTZN_OBEk",
    "outputId": "9580330a-bf07-4c93-b6bd-c07d1938199b"
   },
   "outputs": [
    {
     "name": "stderr",
     "output_type": "stream",
     "text": [
      "/usr/local/lib/python3.10/dist-packages/ipykernel/ipkernel.py:283: DeprecationWarning: `should_run_async` will not call `transform_cell` automatically in the future. Please pass the result to `transformed_cell` argument and any exception that happen during thetransform in `preprocessing_exc_tuple` in IPython 7.17 and above.\n",
      "  and should_run_async(code)\n"
     ]
    },
    {
     "name": "stdout",
     "output_type": "stream",
     "text": [
      " * Please go to thisTunnel URL to interact with this project: https://52d8-35-229-36-209.ngrok-free.app\n",
      " * Serving Flask app '__main__'\n",
      " * Debug mode: off\n"
     ]
    },
    {
     "name": "stderr",
     "output_type": "stream",
     "text": [
      "INFO:werkzeug:\u001b[31m\u001b[1mWARNING: This is a development server. Do not use it in a production deployment. Use a production WSGI server instead.\u001b[0m\n",
      " * Running on http://127.0.0.1:5000\n",
      "INFO:werkzeug:\u001b[33mPress CTRL+C to quit\u001b[0m\n",
      "INFO:werkzeug:127.0.0.1 - - [14/Oct/2024 01:41:28] \"GET / HTTP/1.1\" 200 -\n",
      "INFO:werkzeug:127.0.0.1 - - [14/Oct/2024 01:41:28] \"\u001b[33mGET /favicon.ico HTTP/1.1\u001b[0m\" 404 -\n",
      "<ipython-input-18-0b45956b16d6>:5: FutureWarning: Allowing arbitrary scalar fill_value in SparseDtype is deprecated. In a future version, the fill_value must be a valid value for the SparseDtype.subtype.\n",
      "  df = pd.DataFrame.sparse.from_spmatrix(te_ary, columns=te.columns_)\n",
      "INFO:werkzeug:127.0.0.1 - - [14/Oct/2024 01:41:30] \"POST /compare HTTP/1.1\" 200 -\n"
     ]
    },
    {
     "name": "stdout",
     "output_type": "stream",
     "text": [
      "Brute-force wall-clock time: 0.02328656\n",
      "Brute-force CPU time: 0.02313555\n",
      "Apriori wall-clock time: 0.00469693\n",
      "Apriori CPU time: 0.00468630\n",
      "FP-Growth Frequent Itemsets:     support                                           itemsets\n",
      "0      0.65                                 (Java For Dummies)\n",
      "1      0.65          (Android Programming: The Big Nerd Ranch)\n",
      "2      0.55                               (A Beginner’s Guide)\n",
      "3      0.50                     (Java: The Complete Reference)\n",
      "4      0.40                      (Head First Java 2nd Edition)\n",
      "..      ...                                                ...\n",
      "69     0.10  (A Beginner’s Guide, Java: The Complete Refere...\n",
      "70     0.05  (A Beginner’s Guide, Java: The Complete Refere...\n",
      "71     0.05  (Java: The Complete Reference, HTML and CSS: D...\n",
      "72     0.05  (A Beginner’s Guide, HTML and CSS: Design and ...\n",
      "73     0.05  (Java: The Complete Reference, Java 8 Pocket G...\n",
      "\n",
      "[74 rows x 2 columns]\n",
      "FP-Growth Rules:                                    antecedents  \\\n",
      "0                           (Java For Dummies)   \n",
      "1    (Android Programming: The Big Nerd Ranch)   \n",
      "2                         (A Beginner’s Guide)   \n",
      "3                           (Java For Dummies)   \n",
      "4                         (A Beginner’s Guide)   \n",
      "..                                         ...   \n",
      "417             (Java: The Complete Reference)   \n",
      "418                      (Java 8 Pocket Guide)   \n",
      "419                         (Java For Dummies)   \n",
      "420  (HTML and CSS: Design and Build Websites)   \n",
      "421                       (A Beginner’s Guide)   \n",
      "\n",
      "                                           consequents  antecedent support  \\\n",
      "0            (Android Programming: The Big Nerd Ranch)                0.65   \n",
      "1                                   (Java For Dummies)                0.65   \n",
      "2                                   (Java For Dummies)                0.55   \n",
      "3                                 (A Beginner’s Guide)                0.65   \n",
      "4            (Android Programming: The Big Nerd Ranch)                0.55   \n",
      "..                                                 ...                 ...   \n",
      "417  (A Beginner’s Guide, HTML and CSS: Design and ...                0.50   \n",
      "418  (A Beginner’s Guide, Java: The Complete Refere...                0.20   \n",
      "419  (A Beginner’s Guide, Java: The Complete Refere...                0.65   \n",
      "420  (A Beginner’s Guide, Java: The Complete Refere...                0.10   \n",
      "421  (Java: The Complete Reference, HTML and CSS: D...                0.55   \n",
      "\n",
      "     consequent support  support  confidence       lift  leverage  conviction  \\\n",
      "0                  0.65     0.45    0.692308   1.065089    0.0275    1.137500   \n",
      "1                  0.65     0.45    0.692308   1.065089    0.0275    1.137500   \n",
      "2                  0.65     0.45    0.818182   1.258741    0.0925    1.925000   \n",
      "3                  0.55     0.45    0.692308   1.258741    0.0925    1.462500   \n",
      "4                  0.65     0.30    0.545455   0.839161   -0.0575    0.770000   \n",
      "..                  ...      ...         ...        ...       ...         ...   \n",
      "417                0.05     0.05    0.100000   2.000000    0.0250    1.055556   \n",
      "418                0.10     0.05    0.250000   2.500000    0.0300    1.200000   \n",
      "419                0.05     0.05    0.076923   1.538462    0.0175    1.029167   \n",
      "420                0.05     0.05    0.500000  10.000000    0.0450    1.900000   \n",
      "421                0.05     0.05    0.090909   1.818182    0.0225    1.045000   \n",
      "\n",
      "     zhangs_metric  \n",
      "0         0.174603  \n",
      "1         0.174603  \n",
      "2         0.456790  \n",
      "3         0.587302  \n",
      "4        -0.298701  \n",
      "..             ...  \n",
      "417       1.000000  \n",
      "418       0.750000  \n",
      "419       1.000000  \n",
      "420       1.000000  \n",
      "421       1.000000  \n",
      "\n",
      "[422 rows x 10 columns]\n",
      "FP-Growth wall-clock time: 0.06684521\n",
      "FP-Growth CPU time: 0.05263456\n"
     ]
    },
    {
     "name": "stderr",
     "output_type": "stream",
     "text": [
      "INFO:werkzeug:127.0.0.1 - - [14/Oct/2024 01:43:29] \"POST /results HTTP/1.1\" 200 -\n"
     ]
    },
    {
     "name": "stdout",
     "output_type": "stream",
     "text": [
      "Apriori frequent itemsets: {}\n",
      "Apriori rules: []\n"
     ]
    },
    {
     "name": "stderr",
     "output_type": "stream",
     "text": [
      "INFO:werkzeug:127.0.0.1 - - [14/Oct/2024 01:43:33] \"POST /results HTTP/1.1\" 200 -\n"
     ]
    },
    {
     "name": "stdout",
     "output_type": "stream",
     "text": [
      "Apriori frequent itemsets: {}\n",
      "Apriori rules: []\n"
     ]
    },
    {
     "name": "stderr",
     "output_type": "stream",
     "text": [
      "INFO:werkzeug:127.0.0.1 - - [14/Oct/2024 01:43:37] \"POST /results HTTP/1.1\" 200 -\n"
     ]
    },
    {
     "name": "stdout",
     "output_type": "stream",
     "text": [
      "Apriori frequent itemsets: {1: {frozenset({'Android Programming: The Big Nerd Ranch'}), frozenset({'A Beginner’s Guide'}), frozenset({'Java For Dummies'}), frozenset({'Java: The Complete Reference'})}, 2: {frozenset({'Java: The Complete Reference', 'Java For Dummies'})}}\n",
      "Apriori rules: [[{'Java For Dummies'}, {'Java: The Complete Reference'}, 0.7692307692307693], [{'Java: The Complete Reference'}, {'Java For Dummies'}, 1.0]]\n"
     ]
    },
    {
     "name": "stderr",
     "output_type": "stream",
     "text": [
      "<ipython-input-18-0b45956b16d6>:5: FutureWarning: Allowing arbitrary scalar fill_value in SparseDtype is deprecated. In a future version, the fill_value must be a valid value for the SparseDtype.subtype.\n",
      "  df = pd.DataFrame.sparse.from_spmatrix(te_ary, columns=te.columns_)\n",
      "INFO:werkzeug:127.0.0.1 - - [14/Oct/2024 01:43:56] \"POST /compare HTTP/1.1\" 200 -\n"
     ]
    },
    {
     "name": "stdout",
     "output_type": "stream",
     "text": [
      "Brute-force wall-clock time: 0.00140843\n",
      "Brute-force CPU time: 0.00141112\n",
      "Apriori wall-clock time: 0.00023861\n",
      "Apriori CPU time: 0.00024175\n",
      "FP-Growth Frequent Itemsets:    support                                          itemsets\n",
      "0     0.65                                (Java For Dummies)\n",
      "1     0.65         (Android Programming: The Big Nerd Ranch)\n",
      "2     0.55                              (A Beginner’s Guide)\n",
      "3     0.50                    (Java: The Complete Reference)\n",
      "4     0.50  (Java: The Complete Reference, Java For Dummies)\n",
      "FP-Growth Rules:                       antecedents                     consequents  \\\n",
      "0  (Java: The Complete Reference)              (Java For Dummies)   \n",
      "1              (Java For Dummies)  (Java: The Complete Reference)   \n",
      "\n",
      "   antecedent support  consequent support  support  confidence      lift  \\\n",
      "0                0.50                0.65      0.5    1.000000  1.538462   \n",
      "1                0.65                0.50      0.5    0.769231  1.538462   \n",
      "\n",
      "   leverage  conviction  zhangs_metric  \n",
      "0     0.175         inf            0.7  \n",
      "1     0.175    2.166667            1.0  \n",
      "FP-Growth wall-clock time: 0.01532548\n",
      "FP-Growth CPU time: 0.01561737\n"
     ]
    },
    {
     "name": "stderr",
     "output_type": "stream",
     "text": [
      "<ipython-input-18-0b45956b16d6>:5: FutureWarning: Allowing arbitrary scalar fill_value in SparseDtype is deprecated. In a future version, the fill_value must be a valid value for the SparseDtype.subtype.\n",
      "  df = pd.DataFrame.sparse.from_spmatrix(te_ary, columns=te.columns_)\n",
      "INFO:werkzeug:127.0.0.1 - - [14/Oct/2024 01:43:58] \"POST /compare HTTP/1.1\" 200 -\n"
     ]
    },
    {
     "name": "stdout",
     "output_type": "stream",
     "text": [
      "Brute-force wall-clock time: 0.00140795\n",
      "Brute-force CPU time: 0.00141047\n",
      "Apriori wall-clock time: 0.00021222\n",
      "Apriori CPU time: 0.00021990\n",
      "FP-Growth Frequent Itemsets:    support                                          itemsets\n",
      "0     0.65                                (Java For Dummies)\n",
      "1     0.65         (Android Programming: The Big Nerd Ranch)\n",
      "2     0.55                              (A Beginner’s Guide)\n",
      "3     0.50                    (Java: The Complete Reference)\n",
      "4     0.50  (Java: The Complete Reference, Java For Dummies)\n",
      "FP-Growth Rules:                       antecedents                     consequents  \\\n",
      "0  (Java: The Complete Reference)              (Java For Dummies)   \n",
      "1              (Java For Dummies)  (Java: The Complete Reference)   \n",
      "\n",
      "   antecedent support  consequent support  support  confidence      lift  \\\n",
      "0                0.50                0.65      0.5    1.000000  1.538462   \n",
      "1                0.65                0.50      0.5    0.769231  1.538462   \n",
      "\n",
      "   leverage  conviction  zhangs_metric  \n",
      "0     0.175         inf            0.7  \n",
      "1     0.175    2.166667            1.0  \n",
      "FP-Growth wall-clock time: 0.01780278\n",
      "FP-Growth CPU time: 0.01838536\n"
     ]
    }
   ],
   "source": [
    "# Set up ngrok\n",
    "ngrok.kill()  # Terminate any existing tunnels\n",
    "public_url = ngrok.connect(5000).public_url\n",
    "print(f' * Please go to thisTunnel URL to interact with this project: {public_url}')\n",
    "\n",
    "# Run the Flask app\n",
    "app.run()"
   ]
  }
 ],
 "metadata": {
  "colab": {
   "provenance": []
  },
  "kernelspec": {
   "display_name": "Python 3",
   "name": "python3"
  },
  "language_info": {
   "name": "python"
  }
 },
 "nbformat": 4,
 "nbformat_minor": 5
}
